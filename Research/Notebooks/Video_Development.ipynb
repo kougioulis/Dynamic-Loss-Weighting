{
  "nbformat": 4,
  "nbformat_minor": 0,
  "metadata": {
    "kernelspec": {
      "display_name": "Python 3",
      "language": "python",
      "name": "python3"
    },
    "language_info": {
      "codemirror_mode": {
        "name": "ipython",
        "version": 3
      },
      "file_extension": ".py",
      "mimetype": "text/x-python",
      "name": "python",
      "nbconvert_exporter": "python",
      "pygments_lexer": "ipython3",
      "version": "3.6.8"
    },
    "toc": {
      "base_numbering": 1,
      "nav_menu": {},
      "number_sections": true,
      "sideBar": true,
      "skip_h1_title": false,
      "title_cell": "Table of Contents",
      "title_sidebar": "Contents",
      "toc_cell": false,
      "toc_position": {},
      "toc_section_display": true,
      "toc_window_display": true
    },
    "toc-showtags": false,
    "colab": {
      "name": "Video_Development.ipynb",
      "provenance": [],
      "collapsed_sections": [],
      "toc_visible": true,
      "include_colab_link": true
    }
  },
  "cells": [
    {
      "cell_type": "markdown",
      "metadata": {
        "id": "view-in-github",
        "colab_type": "text"
      },
      "source": [
        "<a href=\"https://colab.research.google.com/github/murnanedaniel/Dynamic-Loss-Weighting/blob/master/Research/Notebooks/Video_Development.ipynb\" target=\"_parent\"><img src=\"https://colab.research.google.com/assets/colab-badge.svg\" alt=\"Open In Colab\"/></a>"
      ]
    },
    {
      "cell_type": "markdown",
      "metadata": {
        "id": "-LT98cNL9LTo",
        "colab_type": "text"
      },
      "source": [
        "# Flagging Models for MER"
      ]
    },
    {
      "cell_type": "code",
      "metadata": {
        "id": "5_OZePMU9LTr",
        "colab_type": "code",
        "colab": {
          "base_uri": "https://localhost:8080/",
          "height": 71
        },
        "outputId": "d12b6803-44c6-494a-f262-2f7664e9104a"
      },
      "source": [
        "import torch\n",
        "import torchvision\n",
        "from torch.utils.data import Dataset, DataLoader\n",
        "from torchvision import transforms, utils\n",
        "import torch.nn as nn\n",
        "import torch.nn.functional as F\n",
        "import torch.optim as optim\n",
        "import os\n",
        "import sys\n",
        "import csv\n",
        "\n",
        "import matplotlib.pyplot as plt\n",
        "import matplotlib.image as mpimg\n",
        "import numpy as np\n",
        "import numpy.random as random\n",
        "import seaborn as sns\n",
        "import pandas as pd\n",
        "\n",
        "# import dlib\n",
        "import glob"
      ],
      "execution_count": null,
      "outputs": [
        {
          "output_type": "stream",
          "text": [
            "/usr/local/lib/python3.6/dist-packages/statsmodels/tools/_testing.py:19: FutureWarning: pandas.util.testing is deprecated. Use the functions in the public API at pandas.testing instead.\n",
            "  import pandas.util.testing as tm\n"
          ],
          "name": "stderr"
        }
      ]
    },
    {
      "cell_type": "code",
      "metadata": {
        "id": "RpB3OCs99LTz",
        "colab_type": "code",
        "colab": {}
      },
      "source": [
        "import cv2\n",
        "import imageio\n",
        "# from IPython.display import Video"
      ],
      "execution_count": null,
      "outputs": []
    },
    {
      "cell_type": "code",
      "metadata": {
        "id": "oe9xrqcg9LT5",
        "colab_type": "code",
        "colab": {
          "base_uri": "https://localhost:8080/"
        },
        "outputId": "ae6bcaa1-f29b-4536-b677-fc3b09e63f27"
      },
      "source": [
        "import wandb"
      ],
      "execution_count": null,
      "outputs": [
        {
          "output_type": "error",
          "ename": "ModuleNotFoundError",
          "evalue": "ignored",
          "traceback": [
            "\u001b[0;31m---------------------------------------------------------------------------\u001b[0m",
            "\u001b[0;31mModuleNotFoundError\u001b[0m                       Traceback (most recent call last)",
            "\u001b[0;32m<ipython-input-3-cd35ee5d166e>\u001b[0m in \u001b[0;36m<module>\u001b[0;34m()\u001b[0m\n\u001b[0;32m----> 1\u001b[0;31m \u001b[0;32mimport\u001b[0m \u001b[0mwandb\u001b[0m\u001b[0;34m\u001b[0m\u001b[0;34m\u001b[0m\u001b[0m\n\u001b[0m",
            "\u001b[0;31mModuleNotFoundError\u001b[0m: No module named 'wandb'",
            "",
            "\u001b[0;31m---------------------------------------------------------------------------\u001b[0;32m\nNOTE: If your import is failing due to a missing package, you can\nmanually install dependencies using either !pip or !apt.\n\nTo view examples of installing some common dependencies, click the\n\"Open Examples\" button below.\n\u001b[0;31m---------------------------------------------------------------------------\u001b[0m\n"
          ]
        }
      ]
    },
    {
      "cell_type": "markdown",
      "metadata": {
        "id": "vONFRsSV9LUA",
        "colab_type": "text"
      },
      "source": [
        "## Video Capture"
      ]
    },
    {
      "cell_type": "code",
      "metadata": {
        "id": "sn5VQLxddiWm",
        "colab_type": "code",
        "colab": {}
      },
      "source": [
        "from IPython.display import display, Javascript\n",
        "from google.colab.output import eval_js\n",
        "from base64 import b64decode\n",
        "\n",
        "def getVideo(filename='photo.jpg', quality=0.8):\n",
        "  js = Javascript('''\n",
        "    async function getVideo(quality) {\n",
        "      const div = document.createElement('div');\n",
        "      const capture = document.createElement('button');\n",
        "      capture.textContent = 'Pause/Play';\n",
        "      div.appendChild(capture);\n",
        "\n",
        "      const video = document.createElement('video');\n",
        "      video.style.display = 'block';\n",
        "      const stream = await navigator.mediaDevices.getUserMedia({video: true});\n",
        "\n",
        "      document.body.appendChild(div);\n",
        "      div.appendChild(video);\n",
        "      video.srcObject = stream;\n",
        "      await video.play();\n",
        "\n",
        "      // Resize the output to fit the video element.\n",
        "      google.colab.output.setIframeHeight(document.documentElement.scrollHeight, true);\n",
        "\n",
        "      // start_recording(video, capture);\n",
        "      \n",
        "\n",
        "      recordedBlobs = [];\n",
        "      let options = {mimeType: 'video/webm;codecs=vp9,opus'};\n",
        "      if (!MediaRecorder.isTypeSupported(options.mimeType)) {\n",
        "        console.error(`${options.mimeType} is not supported`);\n",
        "        options = {mimeType: 'video/webm;codecs=vp8,opus'};\n",
        "        if (!MediaRecorder.isTypeSupported(options.mimeType)) {\n",
        "          console.error(`${options.mimeType} is not supported`);\n",
        "          options = {mimeType: 'video/webm'};\n",
        "          if (!MediaRecorder.isTypeSupported(options.mimeType)) {\n",
        "            console.error(`${options.mimeType} is not supported`);\n",
        "            options = {mimeType: ''};\n",
        "          }\n",
        "        }\n",
        "      }\n",
        "\n",
        "      try {\n",
        "        mediaRecorder = new MediaRecorder(video.srcObject, options);\n",
        "      } catch (e) {\n",
        "        console.error('Exception while creating MediaRecorder:', e);\n",
        "        return;\n",
        "      }\n",
        "\n",
        "      console.log('Created MediaRecorder', mediaRecorder, 'with options', options);\n",
        "      mediaRecorder.onstop = (event) => {\n",
        "        console.log('Recorder stopped: ', event);\n",
        "        console.log('Recorded Blobs: ', recordedBlobs);\n",
        "      };\n",
        "      mediaRecorder.ondataavailable = handleDataAvailable;\n",
        "      mediaRecorder.start();\n",
        "      console.log('MediaRecorder started', mediaRecorder);\n",
        "      \n",
        "      // Wait for Capture to be clicked.\n",
        "      await new Promise((resolve) => capture.onclick = resolve);\n",
        "\n",
        "      mediaRecorder.stop()\n",
        "\n",
        "      // const canvas = document.createElement('canvas');\n",
        "      // canvas.width = video.videoWidth;\n",
        "      // canvas.height = video.videoHeight;\n",
        "      // canvas.getContext('2d').drawImage(video, 0, 0);\n",
        "      // stream.getVideoTracks()[0].stop();\n",
        "      // div.remove();\n",
        "      // return canvas.toDataURL('image/jpeg', quality);\n",
        "    }\n",
        "    let mediaRecorder;\n",
        "    let recordedBlobs;\n",
        "\n",
        "    function handleDataAvailable(event) {\n",
        "      console.log('handleDataAvailable', event);\n",
        "      if (event.data && event.data.size > 0) {\n",
        "        recordedBlobs.push(event.data);\n",
        "        console.log(\"In handle\", recordedBlobs)\n",
        "        // storeVideo(recordedBlobs, \"test2\");\n",
        "        // return recordedBlobs;\n",
        "      }\n",
        "    }\n",
        "\n",
        "    function getBlob() {\n",
        "      console.log(\"In return\",recordedBlobs);\n",
        "      return recordedBlobs[0];\n",
        "    }\n",
        "\n",
        "    function sleep(ms) {\n",
        "      return new Promise(resolve => setTimeout(resolve, ms));\n",
        "    }\n",
        "\n",
        "    // function start_recording(vid, capture) {\n",
        "    //   recordedBlobs = [];\n",
        "    //   let options = {mimeType: 'video/webm;codecs=vp9,opus'};\n",
        "    //   if (!MediaRecorder.isTypeSupported(options.mimeType)) {\n",
        "    //     console.error(`${options.mimeType} is not supported`);\n",
        "    //     options = {mimeType: 'video/webm;codecs=vp8,opus'};\n",
        "    //     if (!MediaRecorder.isTypeSupported(options.mimeType)) {\n",
        "    //       console.error(`${options.mimeType} is not supported`);\n",
        "    //       options = {mimeType: 'video/webm'};\n",
        "    //       if (!MediaRecorder.isTypeSupported(options.mimeType)) {\n",
        "    //         console.error(`${options.mimeType} is not supported`);\n",
        "    //         options = {mimeType: ''};\n",
        "    //       }\n",
        "    //     }\n",
        "    //   }\n",
        "\n",
        "    //   try {\n",
        "    //     mediaRecorder = new MediaRecorder(vid.srcObject, options);\n",
        "    //   } catch (e) {\n",
        "    //     console.error('Exception while creating MediaRecorder:', e);\n",
        "    //     return;\n",
        "    //   }\n",
        "\n",
        "    //   console.log('Created MediaRecorder', mediaRecorder, 'with options', options);\n",
        "    //   mediaRecorder.onstop = (event) => {\n",
        "    //     console.log('Recorder stopped: ', event);\n",
        "    //     console.log('Recorded Blobs: ', recordedBlobs);\n",
        "    //   };\n",
        "    //   mediaRecorder.ondataavailable = handleDataAvailable;\n",
        "    //   mediaRecorder.start();\n",
        "    //   console.log('MediaRecorder started', mediaRecorder);\n",
        "    //   // await new Promise((resolve) => capture.onclick = resolve);\n",
        "      \n",
        "    //   setTimeout(mediaRecorder.stop(), 3000);\n",
        "\n",
        "    //   return recordedBlobs;\n",
        "    // }\n",
        "\n",
        "    ''')\n",
        "  display(js)\n",
        "  _ = eval_js('getVideo({})'.format(quality))\n",
        "  data = eval_js('getBlob()')\n",
        "  # print(data)\n",
        "  binary = b64decode(data)\n",
        "  print(binary)\n",
        "  # with open(filename, 'wb') as f:\n",
        "  #   f.write(binary)\n",
        "  return data"
      ],
      "execution_count": null,
      "outputs": []
    },
    {
      "cell_type": "code",
      "metadata": {
        "id": "lr1BJE1TdiVC",
        "colab_type": "code",
        "colab": {
          "base_uri": "https://localhost:8080/",
          "height": 535
        },
        "outputId": "9fef4652-c83d-4b48-ca8e-ddfdb0e5eca7"
      },
      "source": [
        "from IPython.display import Image\n",
        "try:\n",
        "  data = getVideo()\n",
        "  # print('Saved to {}'.format(filename))\n",
        "  # print(data)\n",
        "  # Show the image which was just taken.\n",
        "  # display(Image(filename))\n",
        "except Exception as err:\n",
        "  # Errors will be thrown if the user does not have a webcam or if they do not\n",
        "  # grant the page permission to access it.\n",
        "  print(str(err))"
      ],
      "execution_count": null,
      "outputs": [
        {
          "output_type": "display_data",
          "data": {
            "application/javascript": [
              "\n",
              "    async function getVideo(quality) {\n",
              "      const div = document.createElement('div');\n",
              "      const capture = document.createElement('button');\n",
              "      capture.textContent = 'Pause/Play';\n",
              "      div.appendChild(capture);\n",
              "\n",
              "      const video = document.createElement('video');\n",
              "      video.style.display = 'block';\n",
              "      const stream = await navigator.mediaDevices.getUserMedia({video: true});\n",
              "\n",
              "      document.body.appendChild(div);\n",
              "      div.appendChild(video);\n",
              "      video.srcObject = stream;\n",
              "      await video.play();\n",
              "\n",
              "      // Resize the output to fit the video element.\n",
              "      google.colab.output.setIframeHeight(document.documentElement.scrollHeight, true);\n",
              "\n",
              "      // start_recording(video, capture);\n",
              "      \n",
              "\n",
              "      recordedBlobs = [];\n",
              "      let options = {mimeType: 'video/webm;codecs=vp9,opus'};\n",
              "      if (!MediaRecorder.isTypeSupported(options.mimeType)) {\n",
              "        console.error(`${options.mimeType} is not supported`);\n",
              "        options = {mimeType: 'video/webm;codecs=vp8,opus'};\n",
              "        if (!MediaRecorder.isTypeSupported(options.mimeType)) {\n",
              "          console.error(`${options.mimeType} is not supported`);\n",
              "          options = {mimeType: 'video/webm'};\n",
              "          if (!MediaRecorder.isTypeSupported(options.mimeType)) {\n",
              "            console.error(`${options.mimeType} is not supported`);\n",
              "            options = {mimeType: ''};\n",
              "          }\n",
              "        }\n",
              "      }\n",
              "\n",
              "      try {\n",
              "        mediaRecorder = new MediaRecorder(video.srcObject, options);\n",
              "      } catch (e) {\n",
              "        console.error('Exception while creating MediaRecorder:', e);\n",
              "        return;\n",
              "      }\n",
              "\n",
              "      console.log('Created MediaRecorder', mediaRecorder, 'with options', options);\n",
              "      mediaRecorder.onstop = (event) => {\n",
              "        console.log('Recorder stopped: ', event);\n",
              "        console.log('Recorded Blobs: ', recordedBlobs);\n",
              "      };\n",
              "      mediaRecorder.ondataavailable = handleDataAvailable;\n",
              "      mediaRecorder.start();\n",
              "      console.log('MediaRecorder started', mediaRecorder);\n",
              "      \n",
              "      // Wait for Capture to be clicked.\n",
              "      await new Promise((resolve) => capture.onclick = resolve);\n",
              "\n",
              "      mediaRecorder.stop()\n",
              "\n",
              "      // const canvas = document.createElement('canvas');\n",
              "      // canvas.width = video.videoWidth;\n",
              "      // canvas.height = video.videoHeight;\n",
              "      // canvas.getContext('2d').drawImage(video, 0, 0);\n",
              "      // stream.getVideoTracks()[0].stop();\n",
              "      // div.remove();\n",
              "      // return canvas.toDataURL('image/jpeg', quality);\n",
              "    }\n",
              "    let mediaRecorder;\n",
              "    let recordedBlobs;\n",
              "\n",
              "    function handleDataAvailable(event) {\n",
              "      console.log('handleDataAvailable', event);\n",
              "      if (event.data && event.data.size > 0) {\n",
              "        recordedBlobs.push(event.data);\n",
              "        console.log(\"In handle\", recordedBlobs)\n",
              "        // storeVideo(recordedBlobs, \"test2\");\n",
              "        // return recordedBlobs;\n",
              "      }\n",
              "    }\n",
              "\n",
              "    function getBlob() {\n",
              "      console.log(\"In return\",recordedBlobs);\n",
              "      return recordedBlobs[0];\n",
              "    }\n",
              "\n",
              "    function sleep(ms) {\n",
              "      return new Promise(resolve => setTimeout(resolve, ms));\n",
              "    }\n",
              "\n",
              "    // function start_recording(vid, capture) {\n",
              "    //   recordedBlobs = [];\n",
              "    //   let options = {mimeType: 'video/webm;codecs=vp9,opus'};\n",
              "    //   if (!MediaRecorder.isTypeSupported(options.mimeType)) {\n",
              "    //     console.error(`${options.mimeType} is not supported`);\n",
              "    //     options = {mimeType: 'video/webm;codecs=vp8,opus'};\n",
              "    //     if (!MediaRecorder.isTypeSupported(options.mimeType)) {\n",
              "    //       console.error(`${options.mimeType} is not supported`);\n",
              "    //       options = {mimeType: 'video/webm'};\n",
              "    //       if (!MediaRecorder.isTypeSupported(options.mimeType)) {\n",
              "    //         console.error(`${options.mimeType} is not supported`);\n",
              "    //         options = {mimeType: ''};\n",
              "    //       }\n",
              "    //     }\n",
              "    //   }\n",
              "\n",
              "    //   try {\n",
              "    //     mediaRecorder = new MediaRecorder(vid.srcObject, options);\n",
              "    //   } catch (e) {\n",
              "    //     console.error('Exception while creating MediaRecorder:', e);\n",
              "    //     return;\n",
              "    //   }\n",
              "\n",
              "    //   console.log('Created MediaRecorder', mediaRecorder, 'with options', options);\n",
              "    //   mediaRecorder.onstop = (event) => {\n",
              "    //     console.log('Recorder stopped: ', event);\n",
              "    //     console.log('Recorded Blobs: ', recordedBlobs);\n",
              "    //   };\n",
              "    //   mediaRecorder.ondataavailable = handleDataAvailable;\n",
              "    //   mediaRecorder.start();\n",
              "    //   console.log('MediaRecorder started', mediaRecorder);\n",
              "    //   // await new Promise((resolve) => capture.onclick = resolve);\n",
              "      \n",
              "    //   setTimeout(mediaRecorder.stop(), 3000);\n",
              "\n",
              "    //   return recordedBlobs;\n",
              "    // }\n",
              "\n",
              "    "
            ],
            "text/plain": [
              "<IPython.core.display.Javascript object>"
            ]
          },
          "metadata": {
            "tags": []
          }
        },
        {
          "output_type": "stream",
          "text": [
            "argument should be a bytes-like object or ASCII string, not 'dict'\n"
          ],
          "name": "stdout"
        }
      ]
    },
    {
      "cell_type": "code",
      "metadata": {
        "id": "ALoSNQd-wAJK",
        "colab_type": "code",
        "colab": {
          "base_uri": "https://localhost:8080/",
          "height": 34
        },
        "outputId": "7f31b7fc-c306-46e3-f9c0-f2796ada7931"
      },
      "source": [
        "data[0]"
      ],
      "execution_count": null,
      "outputs": [
        {
          "output_type": "execute_result",
          "data": {
            "text/plain": [
              "{}"
            ]
          },
          "metadata": {
            "tags": []
          },
          "execution_count": 13
        }
      ]
    },
    {
      "cell_type": "markdown",
      "metadata": {
        "id": "6zeVdOH1tUVs",
        "colab_type": "text"
      },
      "source": [
        "Previous structure"
      ]
    },
    {
      "cell_type": "code",
      "metadata": {
        "colab_type": "code",
        "id": "GVoCcGjAr9tp",
        "colab": {}
      },
      "source": [
        "from IPython.display import display, Javascript\n",
        "from google.colab.output import eval_js\n",
        "from base64 import b64decode\n",
        "\n",
        "def take_photo(filename='photo.jpg', quality=0.8):\n",
        "  js = Javascript('''\n",
        "    async function takePhoto(quality) {\n",
        "      const div = document.createElement('div');\n",
        "      const capture = document.createElement('button');\n",
        "      capture.textContent = 'Pause/Play';\n",
        "      div.appendChild(capture);\n",
        "\n",
        "      const video = document.createElement('video');\n",
        "      video.style.display = 'block';\n",
        "      const stream = await navigator.mediaDevices.getUserMedia({video: true});\n",
        "\n",
        "      document.body.appendChild(div);\n",
        "      div.appendChild(video);\n",
        "      video.srcObject = stream;\n",
        "      await video.play();\n",
        "\n",
        "      // Resize the output to fit the video element.\n",
        "      google.colab.output.setIframeHeight(document.documentElement.scrollHeight, true);\n",
        "\n",
        "      // Wait for Capture to be clicked.\n",
        "      await new Promise((resolve) => capture.onclick = resolve);\n",
        "\n",
        "      // const canvas = document.createElement('canvas');\n",
        "      // canvas.width = video.videoWidth;\n",
        "      // canvas.height = video.videoHeight;\n",
        "      // canvas.getContext('2d').drawImage(video, 0, 0);\n",
        "      // stream.getVideoTracks()[0].stop();\n",
        "      // div.remove();\n",
        "      // return canvas.toDataURL('image/jpeg', quality);\n",
        "    }\n",
        "    ''')\n",
        "  display(js)\n",
        "  data = eval_js('takePhoto({})'.format(quality))\n",
        "  binary = b64decode(data.split(',')[1])\n",
        "  with open(filename, 'wb') as f:\n",
        "    f.write(binary)\n",
        "  return data"
      ],
      "execution_count": null,
      "outputs": []
    },
    {
      "cell_type": "code",
      "metadata": {
        "colab_type": "code",
        "id": "KPyZd2ccr9tw",
        "colab": {}
      },
      "source": [
        "from IPython.display import Image\n",
        "try:\n",
        "  data = take_photo()\n",
        "  print('Saved to {}'.format(filename))\n",
        "  \n",
        "  # Show the image which was just taken.\n",
        "  display(Image(filename))\n",
        "except Exception as err:\n",
        "  # Errors will be thrown if the user does not have a webcam or if they do not\n",
        "  # grant the page permission to access it.\n",
        "  print(str(err))"
      ],
      "execution_count": null,
      "outputs": []
    },
    {
      "cell_type": "code",
      "metadata": {
        "id": "dOLMwlaZvuuq",
        "colab_type": "code",
        "colab": {}
      },
      "source": [
        ""
      ],
      "execution_count": null,
      "outputs": []
    },
    {
      "cell_type": "code",
      "metadata": {
        "id": "4YfKvR4mrtEW",
        "colab_type": "code",
        "colab": {}
      },
      "source": [
        "Test"
      ],
      "execution_count": null,
      "outputs": []
    }
  ]
}